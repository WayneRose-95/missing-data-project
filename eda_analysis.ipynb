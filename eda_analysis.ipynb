{
 "cells": [
  {
   "cell_type": "code",
   "execution_count": 1,
   "metadata": {},
   "outputs": [],
   "source": [
    "from db_utils import RDSDatabaseConnector\n",
    "from graph_plotting import Graphs "
   ]
  },
  {
   "cell_type": "code",
   "execution_count": null,
   "metadata": {},
   "outputs": [],
   "source": [
    "# Extracting from source database \n",
    "connector = RDSDatabaseConnector(\"credentials\")\n",
    "\n",
    "# Connecting to the source database \n",
    "source_engine = connector.initialise_database_engine()\n",
    "\n",
    "# The dataframe to be used in the EDA \n",
    "finance_df = connector.extract_from_source_database(source_engine, \"failure_data\")\n",
    "\n",
    "# The .csv file saved \n",
    "finance_csv = connector.dataframe_to_csv(finance_df, \"failure_data.csv\")"
   ]
  },
  {
   "cell_type": "code",
   "execution_count": 2,
   "metadata": {},
   "outputs": [],
   "source": [
    "finance_df "
   ]
  },
  {
   "cell_type": "code",
   "execution_count": null,
   "metadata": {},
   "outputs": [],
   "source": [
    "finance_df "
   ]
  },
  {
   "cell_type": "code",
   "execution_count": null,
   "metadata": {},
   "outputs": [],
   "source": [
    "graphing_tools = Graphs() \n",
    "graphing_tools.create_matrix(finance_df)"
   ]
  },
  {
   "cell_type": "code",
   "execution_count": null,
   "metadata": {},
   "outputs": [],
   "source": [
    "# Bonus Graph \n",
    "scatter_graph = graphing_tools.plot_graph(finance_df, 'Rotational speed [rpm]', 'Torque [Nm]', 'Rotational Speed(rpm) vs Torque(Nm)', 'scatter')"
   ]
  },
  {
   "cell_type": "code",
   "execution_count": null,
   "metadata": {},
   "outputs": [],
   "source": []
  }
 ],
 "metadata": {
  "kernelspec": {
   "display_name": "eda_powerbi",
   "language": "python",
   "name": "python3"
  },
  "language_info": {
   "codemirror_mode": {
    "name": "ipython",
    "version": 3
   },
   "file_extension": ".py",
   "mimetype": "text/x-python",
   "name": "python",
   "nbconvert_exporter": "python",
   "pygments_lexer": "ipython3",
   "version": "3.10.13"
  }
 },
 "nbformat": 4,
 "nbformat_minor": 2
}
